{
 "cells": [
  {
   "cell_type": "code",
   "execution_count": 1,
   "metadata": {
    "collapsed": true
   },
   "outputs": [],
   "source": [
    "import psycopg2\n",
    "import pandas as pd\n",
    "import numpy as np\n",
    "import matplotlib.pyplot as plt\n",
    "import seaborn as sns\n",
    "\n",
    "from exercise import *"
   ]
  },
  {
   "cell_type": "markdown",
   "source": [
    "## Zip Code Data Pull"
   ],
   "metadata": {
    "collapsed": false,
    "pycharm": {
     "name": "#%% md\n"
    }
   }
  },
  {
   "cell_type": "code",
   "execution_count": 2,
   "outputs": [],
   "source": [
    "creds = get_db_creds()\n",
    "sql = 'SELECT * FROM poverty_rates;'\n",
    "conn = psycopg2.connect(**creds)\n",
    "data = pd.read_sql(sql, conn)\n",
    "conn.close()"
   ],
   "metadata": {
    "collapsed": false,
    "pycharm": {
     "name": "#%%\n"
    }
   }
  },
  {
   "cell_type": "code",
   "execution_count": 3,
   "outputs": [
    {
     "data": {
      "text/plain": "      id zip_code  median_income  population  poverty_population  poverty_rate\n0  33121    00601          11757       17599               11282      0.641059\n1  33122    00602          16190       39209               20428      0.521003\n2  33123    00603          16645       50135               25176      0.502164\n3  33124    00606          13387        6304                4092      0.649112\n4  33125    00610          18741       27590               12553      0.454984",
      "text/html": "<div>\n<style scoped>\n    .dataframe tbody tr th:only-of-type {\n        vertical-align: middle;\n    }\n\n    .dataframe tbody tr th {\n        vertical-align: top;\n    }\n\n    .dataframe thead th {\n        text-align: right;\n    }\n</style>\n<table border=\"1\" class=\"dataframe\">\n  <thead>\n    <tr style=\"text-align: right;\">\n      <th></th>\n      <th>id</th>\n      <th>zip_code</th>\n      <th>median_income</th>\n      <th>population</th>\n      <th>poverty_population</th>\n      <th>poverty_rate</th>\n    </tr>\n  </thead>\n  <tbody>\n    <tr>\n      <th>0</th>\n      <td>33121</td>\n      <td>00601</td>\n      <td>11757</td>\n      <td>17599</td>\n      <td>11282</td>\n      <td>0.641059</td>\n    </tr>\n    <tr>\n      <th>1</th>\n      <td>33122</td>\n      <td>00602</td>\n      <td>16190</td>\n      <td>39209</td>\n      <td>20428</td>\n      <td>0.521003</td>\n    </tr>\n    <tr>\n      <th>2</th>\n      <td>33123</td>\n      <td>00603</td>\n      <td>16645</td>\n      <td>50135</td>\n      <td>25176</td>\n      <td>0.502164</td>\n    </tr>\n    <tr>\n      <th>3</th>\n      <td>33124</td>\n      <td>00606</td>\n      <td>13387</td>\n      <td>6304</td>\n      <td>4092</td>\n      <td>0.649112</td>\n    </tr>\n    <tr>\n      <th>4</th>\n      <td>33125</td>\n      <td>00610</td>\n      <td>18741</td>\n      <td>27590</td>\n      <td>12553</td>\n      <td>0.454984</td>\n    </tr>\n  </tbody>\n</table>\n</div>"
     },
     "execution_count": 3,
     "metadata": {},
     "output_type": "execute_result"
    }
   ],
   "source": [
    "data.head()"
   ],
   "metadata": {
    "collapsed": false,
    "pycharm": {
     "name": "#%%\n"
    }
   }
  },
  {
   "cell_type": "code",
   "execution_count": null,
   "outputs": [],
   "source": [
    "data.tail()"
   ],
   "metadata": {
    "collapsed": false,
    "pycharm": {
     "name": "#%%\n"
    }
   }
  },
  {
   "cell_type": "code",
   "execution_count": null,
   "outputs": [],
   "source": [
    "data['log_income'] = np.log(data['median_income'] + )"
   ],
   "metadata": {
    "collapsed": false,
    "pycharm": {
     "name": "#%%\n"
    }
   }
  },
  {
   "cell_type": "code",
   "execution_count": 4,
   "outputs": [
    {
     "data": {
      "text/plain": "<AxesSubplot:xlabel='poverty_rate', ylabel='Count'>"
     },
     "execution_count": 4,
     "metadata": {},
     "output_type": "execute_result"
    },
    {
     "data": {
      "text/plain": "<Figure size 432x288 with 1 Axes>",
      "image/png": "[encoded data removed]"
     },
     "metadata": {
      "needs_background": "light"
     },
     "output_type": "display_data"
    }
   ],
   "source": [
    "# distribution of poverty rates\n",
    "sns.histplot(x='poverty_rate', data=data)"
   ],
   "metadata": {
    "collapsed": false,
    "pycharm": {
     "name": "#%%\n"
    }
   }
  },
  {
   "cell_type": "code",
   "execution_count": 8,
   "outputs": [
    {
     "data": {
      "text/plain": "          id zip_code  median_income  population  poverty_population  \\\n10256  43377    31821          18326         380                 370   \n29671  62792    87753          25313         130                 124   \n18292  51413    54765          23750          39                  35   \n11729  44850    36470          11741         214                 191   \n14086  47207    43805          13505          93                  82   \n19599  52720    57636          23958         185                 156   \n32707  65828    98921          28594         649                 544   \n33118  66239    99927          17981          59                  49   \n25794  58915    74836          31579         185                 153   \n19589  52710    57621          16635         406                 333   \n\n       poverty_rate  \n10256      0.973684  \n29671      0.953846  \n18292      0.897436  \n11729      0.892523  \n14086      0.881720  \n19599      0.843243  \n32707      0.838213  \n33118      0.830508  \n25794      0.827027  \n19589      0.820197  ",
      "text/html": "<div>\n<style scoped>\n    .dataframe tbody tr th:only-of-type {\n        vertical-align: middle;\n    }\n\n    .dataframe tbody tr th {\n        vertical-align: top;\n    }\n\n    .dataframe thead th {\n        text-align: right;\n    }\n</style>\n<table border=\"1\" class=\"dataframe\">\n  <thead>\n    <tr style=\"text-align: right;\">\n      <th></th>\n      <th>id</th>\n      <th>zip_code</th>\n      <th>median_income</th>\n      <th>population</th>\n      <th>poverty_population</th>\n      <th>poverty_rate</th>\n    </tr>\n  </thead>\n  <tbody>\n    <tr>\n      <th>10256</th>\n      <td>43377</td>\n      <td>31821</td>\n      <td>18326</td>\n      <td>380</td>\n      <td>370</td>\n      <td>0.973684</td>\n    </tr>\n    <tr>\n      <th>29671</th>\n      <td>62792</td>\n      <td>87753</td>\n      <td>25313</td>\n      <td>130</td>\n      <td>124</td>\n      <td>0.953846</td>\n    </tr>\n    <tr>\n      <th>18292</th>\n      <td>51413</td>\n      <td>54765</td>\n      <td>23750</td>\n      <td>39</td>\n      <td>35</td>\n      <td>0.897436</td>\n    </tr>\n    <tr>\n      <th>11729</th>\n      <td>44850</td>\n      <td>36470</td>\n      <td>11741</td>\n      <td>214</td>\n      <td>191</td>\n      <td>0.892523</td>\n    </tr>\n    <tr>\n      <th>14086</th>\n      <td>47207</td>\n      <td>43805</td>\n      <td>13505</td>\n      <td>93</td>\n      <td>82</td>\n      <td>0.881720</td>\n    </tr>\n    <tr>\n      <th>19599</th>\n      <td>52720</td>\n      <td>57636</td>\n      <td>23958</td>\n      <td>185</td>\n      <td>156</td>\n      <td>0.843243</td>\n    </tr>\n    <tr>\n      <th>32707</th>\n      <td>65828</td>\n      <td>98921</td>\n      <td>28594</td>\n      <td>649</td>\n      <td>544</td>\n      <td>0.838213</td>\n    </tr>\n    <tr>\n      <th>33118</th>\n      <td>66239</td>\n      <td>99927</td>\n      <td>17981</td>\n      <td>59</td>\n      <td>49</td>\n      <td>0.830508</td>\n    </tr>\n    <tr>\n      <th>25794</th>\n      <td>58915</td>\n      <td>74836</td>\n      <td>31579</td>\n      <td>185</td>\n      <td>153</td>\n      <td>0.827027</td>\n    </tr>\n    <tr>\n      <th>19589</th>\n      <td>52710</td>\n      <td>57621</td>\n      <td>16635</td>\n      <td>406</td>\n      <td>333</td>\n      <td>0.820197</td>\n    </tr>\n  </tbody>\n</table>\n</div>"
     },
     "execution_count": 8,
     "metadata": {},
     "output_type": "execute_result"
    }
   ],
   "source": [
    "# top 10 zip codes by poverty rate\n",
    "data[data['median_income'] > 0].sort_values('poverty_rate', ascending=False).head(10)"
   ],
   "metadata": {
    "collapsed": false,
    "pycharm": {
     "name": "#%%\n"
    }
   }
  }
 ],
 "metadata": {
  "kernelspec": {
   "display_name": "Python 3",
   "language": "python",
   "name": "python3"
  },
  "language_info": {
   "codemirror_mode": {
    "name": "ipython",
    "version": 2
   },
   "file_extension": ".py",
   "mimetype": "text/x-python",
   "name": "python",
   "nbconvert_exporter": "python",
   "pygments_lexer": "ipython2",
   "version": "2.7.6"
  }
 },
 "nbformat": 4,
 "nbformat_minor": 0
}